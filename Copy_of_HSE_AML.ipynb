{
  "nbformat": 4,
  "nbformat_minor": 0,
  "metadata": {
    "colab": {
      "name": "Copy of HSE-AML.ipynb",
      "provenance": [],
      "collapsed_sections": [],
      "authorship_tag": "ABX9TyMBAOtGmnu7mx7is7+v573a",
      "include_colab_link": true
    },
    "kernelspec": {
      "name": "python3",
      "display_name": "Python 3"
    }
  },
  "cells": [
    {
      "cell_type": "markdown",
      "metadata": {
        "id": "view-in-github",
        "colab_type": "text"
      },
      "source": [
        "<a href=\"https://colab.research.google.com/github/itkor/courses/blob/master/Copy_of_HSE_AML.ipynb\" target=\"_parent\"><img src=\"https://colab.research.google.com/assets/colab-badge.svg\" alt=\"Open In Colab\"/></a>"
      ]
    },
    {
      "cell_type": "code",
      "metadata": {
        "id": "OKyCrk-m05Xm",
        "colab_type": "code",
        "colab": {}
      },
      "source": [
        "%matplotlib inline\n",
        "import matplotlib.pyplot as plt\n",
        "import numpy as np\n",
        "import pandas as pd\n",
        "import scipy.optimize as opt\n",
        "import sklearn.linear_model\n",
        "import sklearn.model_selection\n",
        "\n",
        "from sklearn.model_selection import KFold\n",
        "from sklearn.linear_model import LogisticRegression\n",
        "\n",
        "#metrics\n",
        "from sklearn.metrics import f1_score\n",
        "from sklearn.metrics import accuracy_score"
      ],
      "execution_count": 0,
      "outputs": []
    },
    {
      "cell_type": "code",
      "metadata": {
        "id": "6FmE_Lfi07EL",
        "colab_type": "code",
        "colab": {}
      },
      "source": [
        "from sklearn.datasets import fetch_20newsgroups\n",
        "news = fetch_20newsgroups()"
      ],
      "execution_count": 0,
      "outputs": []
    },
    {
      "cell_type": "markdown",
      "metadata": {
        "id": "e_buanMI2DnA",
        "colab_type": "text"
      },
      "source": [
        "\n",
        "Use HashingVectorizer to encode the text into sparse features:"
      ]
    },
    {
      "cell_type": "code",
      "metadata": {
        "id": "aN6fqTEx07G5",
        "colab_type": "code",
        "outputId": "98d0b309-ba8c-404d-fb77-0533e4ab0ec2",
        "colab": {
          "base_uri": "https://localhost:8080/",
          "height": 35
        }
      },
      "source": [
        "from sklearn.feature_extraction.text import HashingVectorizer\n",
        "X = HashingVectorizer(n_features=2**10, binary=True, stop_words = 'english', \\\n",
        "                      token_pattern=r'\\b[a-z0-9_\\-\\.]+[a-z][a-z0-9_\\-\\.]+\\b').fit_transform(news.data)\n",
        "\n",
        "X.shape"
      ],
      "execution_count": 6,
      "outputs": [
        {
          "output_type": "execute_result",
          "data": {
            "text/plain": [
              "(11314, 1024)"
            ]
          },
          "metadata": {
            "tags": []
          },
          "execution_count": 6
        }
      ]
    },
    {
      "cell_type": "code",
      "metadata": {
        "id": "tmTfoUJFDTek",
        "colab_type": "code",
        "colab": {}
      },
      "source": [
        "X = X.todense()\n",
        "y = news.target"
      ],
      "execution_count": 0,
      "outputs": []
    },
    {
      "cell_type": "code",
      "metadata": {
        "id": "Jmhrs-WR07JV",
        "colab_type": "code",
        "colab": {
          "base_uri": "https://localhost:8080/",
          "height": 72
        },
        "outputId": "235f616b-1493-4df3-cd8d-896f07e51246"
      },
      "source": [
        "cv = KFold(10, shuffle=False, random_state=42)"
      ],
      "execution_count": 14,
      "outputs": [
        {
          "output_type": "stream",
          "text": [
            "/usr/local/lib/python3.6/dist-packages/sklearn/model_selection/_split.py:296: FutureWarning: Setting a random_state has no effect since shuffle is False. This will raise an error in 0.24. You should leave random_state to its default (None), or set shuffle=True.\n",
            "  FutureWarning\n"
          ],
          "name": "stderr"
        }
      ]
    },
    {
      "cell_type": "markdown",
      "metadata": {
        "id": "fJQr-5lZFGsy",
        "colab_type": "text"
      },
      "source": [
        "Experiment with different models (L1, L2, ...)"
      ]
    },
    {
      "cell_type": "code",
      "metadata": {
        "id": "SnWj2K6SEbfq",
        "colab_type": "code",
        "colab": {}
      },
      "source": [
        "def test_model(clf):\n",
        "  n = 1\n",
        "  f1 = 0\n",
        "  acc_sc = 0\n",
        "  for train_index, test_index in cv.split(X):\n",
        "      print('Split number: ', n)\n",
        "      X_train, X_test, y_train, y_test = X[train_index], X[test_index], y[train_index], y[test_index]\n",
        "\n",
        "      #Fitting model and making prediction\n",
        "      clf.fit(X_train, y_train)\n",
        "      y_pred = clf.predict(X_test)\n",
        "\n",
        "      n +=1\n",
        "      f1_sc = f1_score(y_test, y_pred, average='weighted')\n",
        "      ac_sc = accuracy_score(y_test, y_pred)\n",
        "\n",
        "      print('Weighted f1-score: ', f1_sc)\n",
        "      print('Accuracy score: ', ac_sc)\n",
        "\n",
        "      if f1 < f1_sc and acc_sc < ac_sc:\n",
        "        f1 = f1_sc\n",
        "        acc_sc =  ac_sc\n",
        "\n",
        "  return f1, acc_sc"
      ],
      "execution_count": 0,
      "outputs": []
    },
    {
      "cell_type": "code",
      "metadata": {
        "id": "1gKDasMT07Lo",
        "colab_type": "code",
        "colab": {}
      },
      "source": [
        "logreg_l1 = LogisticRegression(penalty='l1',C=1, solver='liblinear')"
      ],
      "execution_count": 0,
      "outputs": []
    },
    {
      "cell_type": "code",
      "metadata": {
        "id": "BgAljLevHP39",
        "colab_type": "code",
        "colab": {
          "base_uri": "https://localhost:8080/",
          "height": 589
        },
        "outputId": "6f4f11f5-5707-48cb-a097-bf181282ecba"
      },
      "source": [
        "f1, acc_sc = test_model(logreg_l1)\n",
        "print('')\n",
        "print('Best F1-score: ', f1)\n",
        "print('Best Accuracy Score: ',acc_sc)"
      ],
      "execution_count": 44,
      "outputs": [
        {
          "output_type": "stream",
          "text": [
            "Split number:  1\n",
            "Weighted f1-score:  0.6710310934966724\n",
            "Accuracy score:  0.6722614840989399\n",
            "Split number:  2\n",
            "Weighted f1-score:  0.6664460930777959\n",
            "Accuracy score:  0.6696113074204947\n",
            "Split number:  3\n",
            "Weighted f1-score:  0.6493576223291689\n",
            "Accuracy score:  0.6501766784452296\n",
            "Split number:  4\n",
            "Weighted f1-score:  0.6669760881997483\n",
            "Accuracy score:  0.6696113074204947\n",
            "Split number:  5\n",
            "Weighted f1-score:  0.6657306335987246\n",
            "Accuracy score:  0.667550839964633\n",
            "Split number:  6\n",
            "Weighted f1-score:  0.6582306994193857\n",
            "Accuracy score:  0.6631299734748011\n",
            "Split number:  7\n",
            "Weighted f1-score:  0.6563979451132328\n",
            "Accuracy score:  0.6578249336870027\n",
            "Split number:  8\n",
            "Weighted f1-score:  0.6841197125847658\n",
            "Accuracy score:  0.6852343059239611\n",
            "Split number:  9\n",
            "Weighted f1-score:  0.6666654597185352\n",
            "Accuracy score:  0.6693191865605659\n",
            "Split number:  10\n",
            "Weighted f1-score:  0.6821095180666744\n",
            "Accuracy score:  0.6852343059239611\n",
            "\n",
            "Best F1-score:  0.6841197125847658\n",
            "Best Accuracy Score:  0.6852343059239611\n"
          ],
          "name": "stdout"
        }
      ]
    },
    {
      "cell_type": "code",
      "metadata": {
        "id": "Uah3Xn4IIMBy",
        "colab_type": "code",
        "colab": {}
      },
      "source": [
        "logreg_l2 = LogisticRegression(penalty='l2',C=1, solver='liblinear');"
      ],
      "execution_count": 0,
      "outputs": []
    },
    {
      "cell_type": "code",
      "metadata": {
        "id": "a9LUDGMtHQaQ",
        "colab_type": "code",
        "colab": {
          "base_uri": "https://localhost:8080/",
          "height": 589
        },
        "outputId": "ebe0fba1-8d8b-48a6-a212-c8ce8bb72ba6"
      },
      "source": [
        "f1_sc, acc_score = test_model(logreg_l2)\n",
        "print('')\n",
        "print('Best F1-score: ', f1_sc)\n",
        "print('Best Accuracy Score: ',acc_score)"
      ],
      "execution_count": 46,
      "outputs": [
        {
          "output_type": "stream",
          "text": [
            "Split number:  1\n",
            "Weighted f1-score:  0.7316996652022099\n",
            "Accuracy score:  0.7332155477031802\n",
            "Split number:  2\n",
            "Weighted f1-score:  0.7297051447942865\n",
            "Accuracy score:  0.7323321554770318\n",
            "Split number:  3\n",
            "Weighted f1-score:  0.735614215334728\n",
            "Accuracy score:  0.7367491166077739\n",
            "Split number:  4\n",
            "Weighted f1-score:  0.7379235410061541\n",
            "Accuracy score:  0.741166077738516\n",
            "Split number:  5\n",
            "Weighted f1-score:  0.7232233318346122\n",
            "Accuracy score:  0.7241379310344828\n",
            "Split number:  6\n",
            "Weighted f1-score:  0.7296354849633331\n",
            "Accuracy score:  0.7338638373121131\n",
            "Split number:  7\n",
            "Weighted f1-score:  0.7264651309931803\n",
            "Accuracy score:  0.7285587975243147\n",
            "Split number:  8\n",
            "Weighted f1-score:  0.7405947797111596\n",
            "Accuracy score:  0.7418213969938108\n",
            "Split number:  9\n",
            "Weighted f1-score:  0.7557077064549894\n",
            "Accuracy score:  0.757736516357206\n",
            "Split number:  10\n",
            "Weighted f1-score:  0.721124455625837\n",
            "Accuracy score:  0.7250221043324492\n",
            "\n",
            "Best F1-score:  0.7557077064549894\n",
            "Best Accuracy Score:  0.757736516357206\n"
          ],
          "name": "stdout"
        }
      ]
    },
    {
      "cell_type": "code",
      "metadata": {
        "id": "yry-6uZ5KBKh",
        "colab_type": "code",
        "colab": {}
      },
      "source": [
        ""
      ],
      "execution_count": 0,
      "outputs": []
    }
  ]
}